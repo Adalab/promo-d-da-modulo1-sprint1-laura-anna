{
 "cells": [
  {
   "cell_type": "code",
   "execution_count": 3,
   "metadata": {},
   "outputs": [
    {
     "name": "stdout",
     "output_type": "stream",
     "text": [
      "77\n",
      "Tu nota es una B\n"
     ]
    }
   ],
   "source": [
    "# 1.\n",
    "#En la escuela donde trabajamos tienen el siguiente sistema de notas:\n",
    "#- Below 25 - F\n",
    "#- 25 to 45 - E\n",
    "#- 45 to 50 - D\n",
    "#- 50 to 60 - C\n",
    "#- 60 to 80 - B\n",
    "#- Above 80 - A\n",
    "#El objetivo de este ejercicio es que le preguntéis al usuario por una nota (numérica) \n",
    "# y nosotros le devolvamos la nota con la letra que le corresponde.\n",
    "\n",
    "notas = int(input('Dime qué nota sacaste en el exámen'))\n",
    "print(notas)\n",
    "\n",
    "if notas < 25: \n",
    "    print('Tu nota es una F')\n",
    "if notas >= 25 and notas <= 45:\n",
    "    print('Tu nota es una E')\n",
    "if notas >=   45 and notas <=  50:\n",
    "    print('Tu nota es una D')\n",
    "if notas >=   50 and notas <= 60:\n",
    "    print('Tu nota es una C')\n",
    "if notas >= 60 and notas <= 80:\n",
    "    print('Tu nota es una B')\n",
    "if notas >= 80 and notas >= 100:\n",
    "    print('Tu nota es una A')\n",
    " \n",
    "\n",
    "\n",
    "\n",
    "\n",
    "\n",
    "\n"
   ]
  },
  {
   "cell_type": "code",
   "execution_count": null,
   "metadata": {},
   "outputs": [],
   "source": [
    "# Cread tres inputs donde a cada uno de ellos le preguntéis su edad, \n",
    "#el objetivo del ejercicio es determinar quien es el más viejo y el más joven."
   ]
  },
  {
   "cell_type": "code",
   "execution_count": 9,
   "metadata": {},
   "outputs": [
    {
     "name": "stdout",
     "output_type": "stream",
     "text": [
      "El mayor es el tercero de vosotros\n"
     ]
    }
   ],
   "source": [
    "edad1 = int(input('Dime tu edad'))\n",
    "edad2 = int(input('Dime tu edad'))\n",
    "edad3 = int(input('Dime tu edad'))\n",
    "\n",
    "if edad1 > edad2 and edad1 > edad3 :\n",
    "    print('El mayor es el primero de vosotros')\n",
    "\n",
    "elif edad2 > edad1 and edad2 > edad3 :\n",
    "    print('El mayor es el segundo de vosotros')\n",
    "else:\n",
    "    print('El mayor es el tercero de vosotros')\n",
    "    # no olvidar separar las operaciones de las variables con and y prestar atención al and: repetir variables"
   ]
  },
  {
   "cell_type": "code",
   "execution_count": 11,
   "metadata": {},
   "outputs": [
    {
     "name": "stdout",
     "output_type": "stream",
     "text": [
      "Bienvenido a bordo de 007\n"
     ]
    }
   ],
   "source": [
    "# Escribid un programa que pregunte el nombre del usuario a través de la función input(). \n",
    "# Si el nombre es \"Bond\" haced que imprima \"Bienvenido a bordo de 007\". \n",
    "# En caso contrario haced que imprima \"Buenos días NOMBRE\". \n",
    "# (Reemplace NOMBRE por el nombre del usuario).\n",
    "\n",
    "\n",
    "nombre = input('Cuál es tu nombre?')\n",
    "\n",
    "if nombre == 'Bond':\n",
    "    print('Bienvenido a bordo de 007')\n",
    "else: \n",
    "    print('Buenos días', nombre)\n",
    "    # aquí tuvimos que juntar el string con la variable nombre para poder poner en el input el nombre del usuario\n",
    "    "
   ]
  },
  {
   "cell_type": "code",
   "execution_count": 36,
   "metadata": {},
   "outputs": [
    {
     "name": "stdout",
     "output_type": "stream",
     "text": [
      "['Taiwan', 'Japan', 'Russia']\n"
     ]
    }
   ],
   "source": [
    "# arbol es un diccionario que muestra el número de árboles de países por kilómetro cuadrado \n",
    "# para países aleatorios con un número considerable de población. \n",
    "# Crea una lista llamada \"masarboles\" que contenga el nombre de los países con más de 40.000 árboles \n",
    "# por kilómetro cuadrado.\n",
    "tree = {\"Taiwan\": 69593,\n",
    "        \"Japan\": 49894, \n",
    "        \"Russia\": 41396, \n",
    "        \"Canada\": 36388, \n",
    "        \"Bulgaria\": 24987}\n",
    "\n",
    "masarboles = []\n",
    "for key in tree:\n",
    "    if tree[key] > 40000:\n",
    "      \n",
    "        masarboles.append(key)\n",
    "\n",
    "print(masarboles)\n"
   ]
  },
  {
   "cell_type": "code",
   "execution_count": 47,
   "metadata": {},
   "outputs": [
    {
     "name": "stdout",
     "output_type": "stream",
     "text": [
      "Con qué género te identificas?\n",
      "Con qué letra empieza tu nombre?\n",
      "Estás en el grupo B\n"
     ]
    }
   ],
   "source": [
    "# 5.Los alumnos de un curso se han dividido en dos grupos A y B \n",
    "# de acuerdo al sexo y el nombre. \n",
    "# El grupo A esta formado por las mujeres con un nombre anterior a la M \n",
    "# y los hombres con un nombre posterior a la N y el grupo B por el resto. \n",
    "# Escribid un programa que pregunte al usuario su nombre y sexo, y muestre \n",
    "# por pantalla el grupo que le corresponde\n",
    "\n",
    "print('Con qué género te identificas?')\n",
    "gender = input()\n",
    "print('Con qué letra empieza tu nombre?')\n",
    "letter = input()\n",
    "\n",
    "if gender == 'Femenino' and letter < 'N' or gender == 'Masculino' and letter > 'M':\n",
    "\n",
    "    print('Estás en el grupo A')\n",
    "\n",
    "else: \n",
    "    print('Estás en el grupo B')\n",
    "\n",
    "\n",
    "\n",
    "\n"
   ]
  },
  {
   "cell_type": "code",
   "execution_count": 51,
   "metadata": {},
   "outputs": [
    {
     "name": "stdout",
     "output_type": "stream",
     "text": [
      "0\n",
      "1\n",
      "2\n"
     ]
    }
   ],
   "source": [
    "\n",
    "# 6.\n",
    "# Escribid un programa que:\n",
    "# Dada la variable z con valor 0, es decir z = 0.\n",
    "# Mientras que el valor de z sea menor que 3:\n",
    "\n",
    "# Si el valor de z es igual a 0:\n",
    "# Printead el valor de z\n",
    "# Almancenad el valor en una lista auxiliar\n",
    "# Sumadle 1 al valor de z\n",
    "# Si el valor de z es igual a 1:\n",
    "# Printead el valor de z\n",
    "# Almancenad el valor en una lista auxiliar\n",
    "# Sumadle 1 al valor de z\n",
    "# En caso de que no se cumplan las condiciones anteriores:\n",
    "# Printead el valor de z\n",
    "# Sumadle 1 al valor de z\n",
    "\n",
    "\n",
    "z = 0 \n",
    "\n",
    "while z < 3: \n",
    "    if z == 0:\n",
    "        print(z)\n",
    "        auxiliar = []\n",
    "        auxiliar.append(z)\n",
    "        z +=1 \n",
    "    if z == 1:\n",
    "        print(z)\n",
    "        auxiliar.append(z)\n",
    "        z += 1\n",
    "    if z != 0 and z!= 1:\n",
    "        print(z)\n",
    "        z+=1\n",
    "\n",
    "        \n"
   ]
  }
 ],
 "metadata": {
  "kernelspec": {
   "display_name": "Python 3",
   "language": "python",
   "name": "python3"
  },
  "language_info": {
   "codemirror_mode": {
    "name": "ipython",
    "version": 3
   },
   "file_extension": ".py",
   "mimetype": "text/x-python",
   "name": "python",
   "nbconvert_exporter": "python",
   "pygments_lexer": "ipython3",
   "version": "3.9.6"
  },
  "orig_nbformat": 4,
  "vscode": {
   "interpreter": {
    "hash": "31f2aee4e71d21fbe5cf8b01ff0e069b9275f58929596ceb00d14d90e3e16cd6"
   }
  }
 },
 "nbformat": 4,
 "nbformat_minor": 2
}
